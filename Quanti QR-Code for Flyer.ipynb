{
 "cells": [
  {
   "cell_type": "code",
   "execution_count": 2,
   "id": "f3ee4039",
   "metadata": {
    "collapsed": true
   },
   "outputs": [
    {
     "name": "stdout",
     "output_type": "stream",
     "text": [
      "Collecting qrcode\n",
      "  Using cached qrcode-7.3.tar.gz (43 kB)\n",
      "Requirement already satisfied: colorama in c:\\users\\ghadb\\anaconda3\\envs\\quanti\\lib\\site-packages (from qrcode) (0.4.4)\n",
      "Building wheels for collected packages: qrcode\n",
      "  Building wheel for qrcode (setup.py): started\n",
      "  Building wheel for qrcode (setup.py): finished with status 'done'\n",
      "  Created wheel for qrcode: filename=qrcode-7.3-py3-none-any.whl size=40224 sha256=9dd2ac936373c98e9bc5d409438e5365dd896f060d0abbcfbc4a50ef3f70640e\n",
      "  Stored in directory: c:\\users\\ghadb\\appdata\\local\\pip\\cache\\wheels\\4f\\ed\\3e\\24f78bcb5ee2f41ec2322691ff82ed037f7f5a21d79ed33565\n",
      "Successfully built qrcode\n",
      "Installing collected packages: qrcode\n",
      "Successfully installed qrcode-7.3\n"
     ]
    },
    {
     "name": "stderr",
     "output_type": "stream",
     "text": [
      "WARNING: Error parsing requirements for numpy: [Errno 2] No such file or directory: 'c:\\\\users\\\\ghadb\\\\anaconda3\\\\envs\\\\quanti\\\\lib\\\\site-packages\\\\numpy-1.21.1.dist-info\\\\METADATA'\n"
     ]
    }
   ],
   "source": [
    "# Installing the qrcode library \n",
    "!pip install qrcode"
   ]
  },
  {
   "cell_type": "code",
   "execution_count": 7,
   "id": "0e7e5e58",
   "metadata": {},
   "outputs": [],
   "source": [
    "# Importing neccesary libraries\n",
    "import PIL\n",
    "import qrcode\n",
    "import matplotlib.pyplot as plt"
   ]
  },
  {
   "cell_type": "code",
   "execution_count": 22,
   "id": "72c332ca",
   "metadata": {},
   "outputs": [],
   "source": [
    "def qr_code(text, save_jpg):\n",
    "    qr = qrcode.QRCode(\n",
    "    version=1,\n",
    "    error_correction=qrcode.constants.ERROR_CORRECT_H,\n",
    "    box_size=10,\n",
    "    border=4,)\n",
    "    \n",
    "    qr.add_data(text)\n",
    "    qr.make(fit=True)\n",
    "    qrimg = qr.make_image(fill_color=\"black\", back_color=\"white\").convert('RGB')\n",
    "    plt.imshow(qrimg);\n",
    "    plt.axis('off');\n",
    "    plt.savefig(save_jpg, dpi=100)\n",
    "    plt.show();\n",
    "    \n",
    "    return plt.show()"
   ]
  },
  {
   "cell_type": "code",
   "execution_count": 25,
   "id": "f94037ec",
   "metadata": {},
   "outputs": [
    {
     "data": {
      "image/png": "[encoded data removed]",
      "text/plain": [
       "<Figure size 432x288 with 1 Axes>"
      ]
     },
     "metadata": {
      "needs_background": "light"
     },
     "output_type": "display_data"
    }
   ],
   "source": [
    "text = 'Mohammad is the Greatest!!!'\n",
    "save_jpg = 'testing.jpg'\n",
    "\n",
    "#running the code\n",
    "qr_code(text, save_jpg)"
   ]
  }
 ],
 "metadata": {
  "kernelspec": {
   "display_name": "Python 3 (ipykernel)",
   "language": "python",
   "name": "python3"
  },
  "language_info": {
   "codemirror_mode": {
    "name": "ipython",
    "version": 3
   },
   "file_extension": ".py",
   "mimetype": "text/x-python",
   "name": "python",
   "nbconvert_exporter": "python",
   "pygments_lexer": "ipython3",
   "version": "3.7.10"
  }
 },
 "nbformat": 4,
 "nbformat_minor": 5
}
